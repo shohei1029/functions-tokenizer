{
 "cells": [
  {
   "cell_type": "code",
   "execution_count": 11,
   "metadata": {},
   "outputs": [],
   "source": [
    "input_txt = \"こんにちはほげほげほげほげ\""
   ]
  },
  {
   "cell_type": "code",
   "execution_count": 12,
   "metadata": {},
   "outputs": [
    {
     "name": "stdout",
     "output_type": "stream",
     "text": [
      "char_count=13\n"
     ]
    }
   ],
   "source": [
    "char_count = len(input_txt)\n",
    "print(f\"{char_count=}\")"
   ]
  },
  {
   "cell_type": "code",
   "execution_count": 13,
   "metadata": {},
   "outputs": [
    {
     "name": "stdout",
     "output_type": "stream",
     "text": [
      "tokens_count=17\n"
     ]
    }
   ],
   "source": [
    "import tiktoken\n",
    "\n",
    "enc = tiktoken.get_encoding(\"cl100k_base\")\n",
    "# encoding: Encoding = tiktoken.encoding_for_model(\"gpt-3.5-turbo\")\n",
    "tokens = enc.encode(input_txt)\n",
    "tokens_count = len(tokens)\n",
    "print(f\"{tokens_count=}\")"
   ]
  },
  {
   "cell_type": "code",
   "execution_count": 14,
   "metadata": {},
   "outputs": [
    {
     "data": {
      "text/plain": [
       "[90115,\n",
       " 2243,\n",
       " 119,\n",
       " 2243,\n",
       " 240,\n",
       " 2243,\n",
       " 119,\n",
       " 2243,\n",
       " 240,\n",
       " 2243,\n",
       " 119,\n",
       " 2243,\n",
       " 240,\n",
       " 2243,\n",
       " 119,\n",
       " 2243,\n",
       " 240]"
      ]
     },
     "execution_count": 14,
     "metadata": {},
     "output_type": "execute_result"
    }
   ],
   "source": [
    "tokens"
   ]
  }
 ],
 "metadata": {
  "kernelspec": {
   "display_name": ".venv",
   "language": "python",
   "name": "python3"
  },
  "language_info": {
   "codemirror_mode": {
    "name": "ipython",
    "version": 3
   },
   "file_extension": ".py",
   "mimetype": "text/x-python",
   "name": "python",
   "nbconvert_exporter": "python",
   "pygments_lexer": "ipython3",
   "version": "3.11.3"
  },
  "orig_nbformat": 4
 },
 "nbformat": 4,
 "nbformat_minor": 2
}
